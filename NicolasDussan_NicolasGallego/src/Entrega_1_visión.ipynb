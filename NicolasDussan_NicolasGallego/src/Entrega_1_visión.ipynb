{
  "nbformat": 4,
  "nbformat_minor": 0,
  "metadata": {
    "colab": {
      "provenance": []
    },
    "kernelspec": {
      "name": "python3",
      "display_name": "Python 3"
    },
    "language_info": {
      "name": "python"
    }
  },
  "cells": [
    {
      "cell_type": "markdown",
      "source": [
        "<table>\n",
        "    <tr>\n",
        "        <td><img src=\"https://s3.amazonaws.com/media-p.slid.es/uploads/1485763/images/9060062/Header.png\" width=\"300\"/></td>\n",
        "        <td>&nbsp;</td>\n",
        "        <td>\n",
        "            <h1 style=\"font-size:200%;color:blue;text-align:center\">    <FONT COLOR=\"blue\">  Generación 3D  </FONT>         </h1></td>         \n",
        "        <td>\n",
        "            <tp><p style=\"font-size:99%;text-align:center\">Visión por computadora </p></tp>\n",
        "            <tp><p style=\"font-size:115%;text-align:center\">Pregrado MACC 2024-2</p></tp>\n",
        "            <tp><p style=\"font-size:115%;text-align:center\">Nicolás Dussan & Nicolas Eduardo Gallego</p></tp>\n",
        "        </td>\n",
        "    </tr>\n",
        "</table>"
      ],
      "metadata": {
        "id": "hxIBfFyElLOO"
      }
    },
    {
      "cell_type": "markdown",
      "source": [
        "**Importación de librearias**"
      ],
      "metadata": {
        "id": "WsoSKqXqC9sH"
      }
    },
    {
      "cell_type": "code",
      "source": [
        "!pip install open3d\n",
        "import cv2 as cv\n",
        "import glob\n",
        "import os\n",
        "import numpy as np\n",
        "import open3d as o3d"
      ],
      "metadata": {
        "id": "3Xsn2miCCmR-"
      },
      "execution_count": null,
      "outputs": []
    },
    {
      "cell_type": "markdown",
      "source": [
        "**Calibración de la cámara**"
      ],
      "metadata": {
        "id": "WxP_IbCeag6f"
      }
    },
    {
      "cell_type": "code",
      "source": [
        "#definir una función para la calibración de la cámara a partir de las imagenes de chess\n",
        "def calibración(iter, umbral, dir):\n",
        "    criteria = (cv.TERM_CRITERIA_EPS + cv.TERM_CRITERIA_MAX_ITER, iter, umbral)\n",
        "\n",
        "    objp = np.zeros((7 * 7, 3), np.float32)\n",
        "    objp[:, :2] = np.mgrid[0:7, 0:7].T.reshape(-1, 2)\n",
        "\n",
        "    objpoints = []\n",
        "    imgpoints = []\n",
        "\n",
        "    imagenes = dir\n",
        "\n",
        "    for imagen in imagenes:\n",
        "        img = cv.imread(imagen)\n",
        "        if img is None:\n",
        "            print(f\" No se pudo cargar la imagen {imagen}\")\n",
        "            continue\n",
        "\n",
        "        gray = cv.cvtColor(img, cv.COLOR_BGR2GRAY)\n",
        "        ret, corners = cv.findChessboardCorners(gray, (7, 7), None)\n",
        "\n",
        "        if ret:\n",
        "            objpoints.append(objp)\n",
        "            corners2 = cv.cornerSubPix(gray, corners, (11, 11), (-1, -1), criteria)\n",
        "            imgpoints.append(corners2)\n",
        "        else:\n",
        "            print(f\"No se detectaron esquinas en {imagen}\")\n",
        "    cv.destroyAllWindows()\n",
        "\n",
        "    if len(objpoints) > 10:\n",
        "        ret, mtx, dist, rvecs, tvecs = cv.calibrateCamera(objpoints, imgpoints, gray.shape[::-1], None, None)\n",
        "        return ret, mtx, dist, rvecs, tvecs\n",
        "#cambiar la ruta o dirrección donde se encuentran las imagenes de chess1\n",
        "chess = glob.glob(r\"C:\\Users\\nicol\\OneDrive\\Escritorio\\chess1\\*.jpg\")\n",
        "ret, mtxk, distr, rvecs, tvecs = calibración(30, 0.0001, chess)"
      ],
      "metadata": {
        "id": "-NkEx1pnaYoD",
        "colab": {
          "base_uri": "https://localhost:8080/",
          "height": 176
        },
        "outputId": "80f6f282-62f4-4cfa-a3a0-3fd127937b09"
      },
      "execution_count": null,
      "outputs": [
        {
          "output_type": "error",
          "ename": "TypeError",
          "evalue": "cannot unpack non-iterable NoneType object",
          "traceback": [
            "\u001b[0;31m---------------------------------------------------------------------------\u001b[0m",
            "\u001b[0;31mTypeError\u001b[0m                                 Traceback (most recent call last)",
            "\u001b[0;32m<ipython-input-13-1b93474738d8>\u001b[0m in \u001b[0;36m<cell line: 0>\u001b[0;34m()\u001b[0m\n\u001b[1;32m     33\u001b[0m \u001b[0;31m#cambiar la ruta o dirrección donde se encuentran las imagenes de chess1\u001b[0m\u001b[0;34m\u001b[0m\u001b[0;34m\u001b[0m\u001b[0m\n\u001b[1;32m     34\u001b[0m \u001b[0mchess\u001b[0m \u001b[0;34m=\u001b[0m \u001b[0mglob\u001b[0m\u001b[0;34m.\u001b[0m\u001b[0mglob\u001b[0m\u001b[0;34m(\u001b[0m\u001b[0;34mr\"C:\\Users\\nicol\\OneDrive\\Escritorio\\chess1\\*.jpg\"\u001b[0m\u001b[0;34m)\u001b[0m\u001b[0;34m\u001b[0m\u001b[0;34m\u001b[0m\u001b[0m\n\u001b[0;32m---> 35\u001b[0;31m \u001b[0mret\u001b[0m\u001b[0;34m,\u001b[0m \u001b[0mmtxk\u001b[0m\u001b[0;34m,\u001b[0m \u001b[0mdistr\u001b[0m\u001b[0;34m,\u001b[0m \u001b[0mrvecs\u001b[0m\u001b[0;34m,\u001b[0m \u001b[0mtvecs\u001b[0m \u001b[0;34m=\u001b[0m \u001b[0mcalibración\u001b[0m\u001b[0;34m(\u001b[0m\u001b[0;36m30\u001b[0m\u001b[0;34m,\u001b[0m \u001b[0;36m0.0001\u001b[0m\u001b[0;34m,\u001b[0m \u001b[0mchess\u001b[0m\u001b[0;34m)\u001b[0m\u001b[0;34m\u001b[0m\u001b[0;34m\u001b[0m\u001b[0m\n\u001b[0m",
            "\u001b[0;31mTypeError\u001b[0m: cannot unpack non-iterable NoneType object"
          ]
        }
      ]
    },
    {
      "cell_type": "markdown",
      "source": [
        "**Corrección de distorsión**"
      ],
      "metadata": {
        "id": "DGstiNoIcVaX"
      }
    },
    {
      "cell_type": "code",
      "source": [
        "def corregir_distorsion(ruta_entrada, ruta_salida, mtx, dist):\n",
        "    if not os.path.exists(ruta_salida):\n",
        "        os.makedirs(ruta_salida)\n",
        "    for archivo in os.listdir(ruta_entrada):\n",
        "        if archivo.endswith((\".jpg\", \".png\", \".jpeg\")):\n",
        "            ruta_original = os.path.join(ruta_entrada, archivo)\n",
        "            img = cv.imread(ruta_original)\n",
        "            img = cv.cvtColor(img, cv.COLOR_BGR2GRAY)\n",
        "            h, w = img.shape[:2]\n",
        "            new_mtx, roi = cv.getOptimalNewCameraMatrix(mtx, dist, (w, h), 1, (w, h))\n",
        "            img_corregida = cv.undistort(img, mtx, dist, None, new_mtx)\n",
        "            ruta_guardado = os.path.join(ruta_salida, archivo)\n",
        "            cv.imwrite(ruta_guardado, img_corregida)\n",
        "            print(f\"✅ Imagen corregida: {archivo}\")\n",
        "\n",
        "#cambiar ruta o dirección a donde se enceuntran las imagenes del objeto\n",
        "camaro = \"C:/Users/nicol/OneDrive/Escritorio/camaro1\"\n",
        "salida = os.path.join(camaro, \"mejoradas\")\n",
        "corregir_distorsion(camaro, salida, mtxk, distr)"
      ],
      "metadata": {
        "id": "rSCNZ4xJctkX"
      },
      "execution_count": null,
      "outputs": []
    },
    {
      "cell_type": "markdown",
      "source": [
        "**Empajeramientos por caracteristicas de la imagen**"
      ],
      "metadata": {
        "id": "Oknbi8zZciAD"
      }
    },
    {
      "cell_type": "code",
      "source": [
        "salida1 = os.path.join(camaro, \"emparejamientos\")\n",
        "\n",
        "# Se crea el directorio de salida en caso de que no exista\n",
        "if not os.path.exists(salida1):\n",
        "    os.makedirs(salida1)\n",
        "\n",
        "\n",
        "sift = cv.SIFT_create()\n",
        "\n",
        "# Usamos el matcher de fuerza bruta con la nomra L2\n",
        "bf = cv.BFMatcher(cv.NORM_L2, crossCheck=False)\n",
        "\n",
        "# Función de emparejamiento de descriptores\n",
        "def emparejar_descriptores(desc1, desc2):\n",
        "    matches = bf.knnMatch(desc1, desc2, k=2)\n",
        "    buenos_matches = [m for m, n in matches if m.distance < 0.75 * n.distance]\n",
        "    return buenos_matches\n",
        "# Para esta funcion usamos la prueba lowe\n",
        "\n",
        "# Obtener las imágenes de la carpeta\n",
        "imagenes = [os.path.join(salida, f) for f in os.listdir(salida) if f.endswith(('.jpg', '.png', '.jpeg'))]\n",
        "imagenes.sort()  # Asegurar orden correcto\n",
        "\n",
        "# Detectar características en todas las imágenes\n",
        "keypoints_descriptors = []\n",
        "\n",
        "for img_path in imagenes:\n",
        "    img = cv.imread(img_path)\n",
        "    keypoints, descriptors = sift.detectAndCompute(img, None)\n",
        "    keypoints_descriptors.append((img_path, keypoints, descriptors))\n",
        "    print(f\"🔍 Procesada: {img_path} - Keypoints: {len(keypoints)}\")\n",
        "\n",
        "\n",
        "rango = 2\n",
        "\n",
        "for i in range(len(keypoints_descriptors)):\n",
        "    img1_path, kp1, desc1 = keypoints_descriptors[i]\n",
        "    for j in range(i + 1, min(i + rango + 1, len(keypoints_descriptors))):\n",
        "        img2_path, kp2, desc2 = keypoints_descriptors[j]\n",
        "        buenos_matches = emparejar_descriptores(desc1, desc2)\n",
        "        print(f\"🔗 Emparejadas: {img1_path} ↔ {img2_path} | Matches: {len(buenos_matches)}\")\n",
        "        img1 = cv.imread(img1_path)\n",
        "        img2 = cv.imread(img2_path)\n",
        "        img_match = cv.drawMatches(img1, kp1, img2, kp2, buenos_matches, None, flags=cv.DrawMatchesFlags_NOT_DRAW_SINGLE_POINTS)\n",
        "        nombre_salida = f\"match_{i}_con_{j}.png\"\n",
        "        cv.imwrite(os.path.join(salida1, nombre_salida), img_match)\n",
        "        cv.namedWindow(\"Emparejamientos\", cv.WINDOW_NORMAL)\n",
        "        cv.resizeWindow(\"Emparejamientos\", 2560, 600)\n",
        "        cv.imshow(\"Emparejamiento\", img_match)\n",
        "        cv.waitKey(500)\n",
        "\n",
        "cv.destroyAllWindows()\n",
        "print(\"✅ ¡Emparejamiento ampliado completado!\")"
      ],
      "metadata": {
        "id": "GQ0qvBJJcjXW"
      },
      "execution_count": null,
      "outputs": []
    },
    {
      "cell_type": "markdown",
      "source": [
        "**Matrices Fundamental, Escencial, Rotación y Traslación**"
      ],
      "metadata": {
        "id": "7jcJkyiskiKY"
      }
    },
    {
      "cell_type": "code",
      "source": [
        "# Calcular matrices (Fundamental, Esencial, Rotación y Traslación)\n",
        "def calcular_matrices(kp1, desc1, kp2, desc2, K):\n",
        "    buenos_matches = emparejar_descriptores(desc1, desc2)\n",
        "\n",
        "    if len(buenos_matches) < 8:\n",
        "        print(\"⚠️ Advertencia: No hay suficientes puntos para calcular las matrices.\")\n",
        "        return None\n",
        "\n",
        "    # Extraer puntos correspondientes\n",
        "    pts1 = np.float32([kp1[m.queryIdx].pt for m in buenos_matches])\n",
        "    pts2 = np.float32([kp2[m.trainIdx].pt for m in buenos_matches])\n",
        "\n",
        "    # Calcular la matriz fundamental (F) usando RANSAC\n",
        "    F, _ = cv.findFundamentalMat(pts1, pts2, cv.FM_RANSAC, 1.0, 0.999)\n",
        "    print(\"Matriz Fundamental (F):\\n\", F)\n",
        "\n",
        "    # Calcular la matriz esencial (E) con los parámetros de calibración\n",
        "    E, _ = cv.findEssentialMat(pts1, pts2, K, method=cv.RANSAC, prob=0.999, threshold=1.0)\n",
        "    print(\"Matriz Esencial (E):\\n\", E)\n",
        "\n",
        "    # Descomponer la matriz esencial en R (rotación) y t (traslación)\n",
        "    _, R, t, _ = cv.recoverPose(E, pts1, pts2, K)\n",
        "    t = t / np.linalg.norm(t)  # Normalizar la traslación\n",
        "\n",
        "    print(\"Matriz de Rotación (R):\\n\", R)\n",
        "    print(\"Vector de Traslación (t, normalizado):\\n\", t)\n",
        "\n",
        "    return F, E, R, t\n",
        "\n",
        "# Calcular las matrices para imágenes consecutivas\n",
        "for i in range(len(keypoints_descriptors) - 1):\n",
        "    img1_path, kp1, desc1 = keypoints_descriptors[i]\n",
        "    img2_path, kp2, desc2 = keypoints_descriptors[i + 1]\n",
        "\n",
        "    print(f\"\\n🔢 Calculando matrices para: {img1_path} ↔ {img2_path}\")\n",
        "    calcular_matrices(kp1, desc1, kp2, desc2, mtxk)"
      ],
      "metadata": {
        "id": "9QRYpcaukoX9"
      },
      "execution_count": null,
      "outputs": []
    },
    {
      "cell_type": "markdown",
      "source": [
        "**Visualización del modelo de colmap con open3d**"
      ],
      "metadata": {
        "id": "Ne6cziZwc4kK"
      }
    },
    {
      "cell_type": "code",
      "source": [
        "# Ruta del archivo PLY exportado\n",
        "ply_path = \"C:/Users/nicol/OneDrive/Escritorio/camaro1/camaro.ply\"\n",
        "\n",
        "\n",
        "nube = o3d.io.read_point_cloud(ply_path)\n",
        "print(nube)\n",
        "vis = o3d.visualization.Visualizer()\n",
        "vis.create_window()\n",
        "vis.add_geometry(nube)\n",
        "\n",
        "# Ajustar el tamaño de los puntos\n",
        "opt = vis.get_render_option()\n",
        "opt.point_size = 1.0\n",
        "vis.run()\n",
        "vis.destroy_window()"
      ],
      "metadata": {
        "id": "cMAike15c3-q"
      },
      "execution_count": null,
      "outputs": []
    }
  ]
}